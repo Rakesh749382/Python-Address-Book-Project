{
  "metadata": {
    "language_info": {
      "codemirror_mode": {
        "name": "python",
        "version": 3
      },
      "file_extension": ".py",
      "mimetype": "text/x-python",
      "name": "python",
      "nbconvert_exporter": "python",
      "pygments_lexer": "ipython3",
      "version": "3.8"
    },
    "kernelspec": {
      "name": "python",
      "display_name": "Python (Pyodide)",
      "language": "python"
    }
  },
  "nbformat_minor": 4,
  "nbformat": 4,
  "cells": [
    {
      "cell_type": "code",
      "source": "\n# Import Module\nfrom tkinter import *\n  \n# Create Object\nroot = Tk()\n  \n# Set geometry\nroot.geometry('400x500')\n  \n# Information List\ndatas = []\n  \n# Add Information\ndef add():\n    global datas\n    datas.append([Name.get(),Number.get(),address.get(1.0, \"end-1c\")])\n    update_book()\n  \n# View Information\ndef view():\n    Name.set(datas[int(select.curselection()[0])][0])\n    Number.set(datas[int(select.curselection()[0])][1])\n    address.delete(1.0,\"end\")\n    address.insert(1.0, datas[int(select.curselection()[0])][2])\n  \n# Delete Information\ndef delete():\n    del datas[int(select.curselection()[0])]\n    update_book()\n  \ndef reset():\n    Name.set('')\n    Number.set('')\n    address.delete(1.0,\"end\")\n  \n# Update Information\ndef update_book():\n    select.delete(0,END)\n    for n,p,a in datas:\n        select.insert(END, n)\n  \n# Add Buttons, Label, ListBox\nName = StringVar()\nNumber = StringVar()\n  \nframe = Frame()\nframe.pack(pady=10)\n  \nframe1 = Frame()\nframe1.pack()\n  \nframe2 = Frame()\nframe2.pack(pady=10)\n  \nLabel(frame, text = 'Name', font='arial 12 bold').pack(side=LEFT)\nEntry(frame, textvariable = Name,width=50).pack()\n  \nLabel(frame1, text = 'Phone No.', font='arial 12 bold').pack(side=LEFT)\nEntry(frame1, textvariable = Number,width=50).pack()\n  \nLabel(frame2, text = 'Address', font='arial 12 bold').pack(side=LEFT)\naddress = Text(frame2,width=37,height=10)\naddress.pack()\n  \nButton(root,text=\"Add\",font=\"arial 12 bold\",command=add).place(x= 100, y=270)\nButton(root,text=\"View\",font=\"arial 12 bold\",command=view).place(x= 100, y=310)\nButton(root,text=\"Delete\",font=\"arial 12 bold\",command=delete).place(x= 100, y=350)\nButton(root,text=\"Reset\",font=\"arial 12 bold\",command=reset).place(x= 100, y=390)\n  \nscroll_bar = Scrollbar(root, orient=VERTICAL)\nselect = Listbox(root, yscrollcommand=scroll_bar.set, height=12)\nscroll_bar.config (command=select.yview)\nscroll_bar.pack(side=RIGHT, fill=Y)\nselect.place(x=200,y=260)\n  \n# Execute Tkinter\nroot.mainloop()",
      "metadata": {},
      "execution_count": null,
      "outputs": []
    }
  ]
}